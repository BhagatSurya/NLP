{
  "nbformat": 4,
  "nbformat_minor": 0,
  "metadata": {
    "colab": {
      "name": "Sarcasm Detection K-Fold.ipynb",
      "provenance": [],
      "authorship_tag": "ABX9TyOGEH3/FLNWfrJG3PMjRuzp",
      "include_colab_link": true
    },
    "kernelspec": {
      "name": "python3",
      "display_name": "Python 3"
    },
    "language_info": {
      "name": "python"
    },
    "accelerator": "GPU",
    "gpuClass": "standard"
  },
  "cells": [
    {
      "cell_type": "markdown",
      "metadata": {
        "id": "view-in-github",
        "colab_type": "text"
      },
      "source": [
        "<a href=\"https://colab.research.google.com/github/BhagatSurya/NLP/blob/main/Sarcasm_Detection_K_Fold.ipynb\" target=\"_parent\"><img src=\"https://colab.research.google.com/assets/colab-badge.svg\" alt=\"Open In Colab\"/></a>"
      ]
    },
    {
      "cell_type": "code",
      "execution_count": 1,
      "metadata": {
        "id": "Ldf-l--ODtZX"
      },
      "outputs": [],
      "source": [
        "#unzip the data \n",
        "import zipfile\n",
        "# Unzip the downloaded file\n",
        "zip_ref = zipfile.ZipFile(\"/content/Sarcasm_Headlines_Dataset.json.zip\", \"r\")\n",
        "zip_ref.extractall()\n",
        "zip_ref.close()"
      ]
    },
    {
      "cell_type": "code",
      "source": [
        "import pandas as pd\n",
        "df = pd.read_json('/content/Sarcasm_Headlines_Dataset.json',lines=True)"
      ],
      "metadata": {
        "id": "efELQ_fuELmi"
      },
      "execution_count": 2,
      "outputs": []
    },
    {
      "cell_type": "code",
      "source": [
        "df.head()\n"
      ],
      "metadata": {
        "colab": {
          "base_uri": "https://localhost:8080/",
          "height": 206
        },
        "id": "yq4W7FWMERcx",
        "outputId": "af0c2970-2e6d-4b40-a39b-26eb9ec54c58"
      },
      "execution_count": 3,
      "outputs": [
        {
          "output_type": "execute_result",
          "data": {
            "text/plain": [
              "                                        article_link  \\\n",
              "0  https://www.huffingtonpost.com/entry/versace-b...   \n",
              "1  https://www.huffingtonpost.com/entry/roseanne-...   \n",
              "2  https://local.theonion.com/mom-starting-to-fea...   \n",
              "3  https://politics.theonion.com/boehner-just-wan...   \n",
              "4  https://www.huffingtonpost.com/entry/jk-rowlin...   \n",
              "\n",
              "                                            headline  is_sarcastic  \n",
              "0  former versace store clerk sues over secret 'b...             0  \n",
              "1  the 'roseanne' revival catches up to our thorn...             0  \n",
              "2  mom starting to fear son's web series closest ...             1  \n",
              "3  boehner just wants wife to listen, not come up...             1  \n",
              "4  j.k. rowling wishes snape happy birthday in th...             0  "
            ],
            "text/html": [
              "\n",
              "  <div id=\"df-e4fa81d5-067c-408f-b610-38291bdf98f0\">\n",
              "    <div class=\"colab-df-container\">\n",
              "      <div>\n",
              "<style scoped>\n",
              "    .dataframe tbody tr th:only-of-type {\n",
              "        vertical-align: middle;\n",
              "    }\n",
              "\n",
              "    .dataframe tbody tr th {\n",
              "        vertical-align: top;\n",
              "    }\n",
              "\n",
              "    .dataframe thead th {\n",
              "        text-align: right;\n",
              "    }\n",
              "</style>\n",
              "<table border=\"1\" class=\"dataframe\">\n",
              "  <thead>\n",
              "    <tr style=\"text-align: right;\">\n",
              "      <th></th>\n",
              "      <th>article_link</th>\n",
              "      <th>headline</th>\n",
              "      <th>is_sarcastic</th>\n",
              "    </tr>\n",
              "  </thead>\n",
              "  <tbody>\n",
              "    <tr>\n",
              "      <th>0</th>\n",
              "      <td>https://www.huffingtonpost.com/entry/versace-b...</td>\n",
              "      <td>former versace store clerk sues over secret 'b...</td>\n",
              "      <td>0</td>\n",
              "    </tr>\n",
              "    <tr>\n",
              "      <th>1</th>\n",
              "      <td>https://www.huffingtonpost.com/entry/roseanne-...</td>\n",
              "      <td>the 'roseanne' revival catches up to our thorn...</td>\n",
              "      <td>0</td>\n",
              "    </tr>\n",
              "    <tr>\n",
              "      <th>2</th>\n",
              "      <td>https://local.theonion.com/mom-starting-to-fea...</td>\n",
              "      <td>mom starting to fear son's web series closest ...</td>\n",
              "      <td>1</td>\n",
              "    </tr>\n",
              "    <tr>\n",
              "      <th>3</th>\n",
              "      <td>https://politics.theonion.com/boehner-just-wan...</td>\n",
              "      <td>boehner just wants wife to listen, not come up...</td>\n",
              "      <td>1</td>\n",
              "    </tr>\n",
              "    <tr>\n",
              "      <th>4</th>\n",
              "      <td>https://www.huffingtonpost.com/entry/jk-rowlin...</td>\n",
              "      <td>j.k. rowling wishes snape happy birthday in th...</td>\n",
              "      <td>0</td>\n",
              "    </tr>\n",
              "  </tbody>\n",
              "</table>\n",
              "</div>\n",
              "      <button class=\"colab-df-convert\" onclick=\"convertToInteractive('df-e4fa81d5-067c-408f-b610-38291bdf98f0')\"\n",
              "              title=\"Convert this dataframe to an interactive table.\"\n",
              "              style=\"display:none;\">\n",
              "        \n",
              "  <svg xmlns=\"http://www.w3.org/2000/svg\" height=\"24px\"viewBox=\"0 0 24 24\"\n",
              "       width=\"24px\">\n",
              "    <path d=\"M0 0h24v24H0V0z\" fill=\"none\"/>\n",
              "    <path d=\"M18.56 5.44l.94 2.06.94-2.06 2.06-.94-2.06-.94-.94-2.06-.94 2.06-2.06.94zm-11 1L8.5 8.5l.94-2.06 2.06-.94-2.06-.94L8.5 2.5l-.94 2.06-2.06.94zm10 10l.94 2.06.94-2.06 2.06-.94-2.06-.94-.94-2.06-.94 2.06-2.06.94z\"/><path d=\"M17.41 7.96l-1.37-1.37c-.4-.4-.92-.59-1.43-.59-.52 0-1.04.2-1.43.59L10.3 9.45l-7.72 7.72c-.78.78-.78 2.05 0 2.83L4 21.41c.39.39.9.59 1.41.59.51 0 1.02-.2 1.41-.59l7.78-7.78 2.81-2.81c.8-.78.8-2.07 0-2.86zM5.41 20L4 18.59l7.72-7.72 1.47 1.35L5.41 20z\"/>\n",
              "  </svg>\n",
              "      </button>\n",
              "      \n",
              "  <style>\n",
              "    .colab-df-container {\n",
              "      display:flex;\n",
              "      flex-wrap:wrap;\n",
              "      gap: 12px;\n",
              "    }\n",
              "\n",
              "    .colab-df-convert {\n",
              "      background-color: #E8F0FE;\n",
              "      border: none;\n",
              "      border-radius: 50%;\n",
              "      cursor: pointer;\n",
              "      display: none;\n",
              "      fill: #1967D2;\n",
              "      height: 32px;\n",
              "      padding: 0 0 0 0;\n",
              "      width: 32px;\n",
              "    }\n",
              "\n",
              "    .colab-df-convert:hover {\n",
              "      background-color: #E2EBFA;\n",
              "      box-shadow: 0px 1px 2px rgba(60, 64, 67, 0.3), 0px 1px 3px 1px rgba(60, 64, 67, 0.15);\n",
              "      fill: #174EA6;\n",
              "    }\n",
              "\n",
              "    [theme=dark] .colab-df-convert {\n",
              "      background-color: #3B4455;\n",
              "      fill: #D2E3FC;\n",
              "    }\n",
              "\n",
              "    [theme=dark] .colab-df-convert:hover {\n",
              "      background-color: #434B5C;\n",
              "      box-shadow: 0px 1px 3px 1px rgba(0, 0, 0, 0.15);\n",
              "      filter: drop-shadow(0px 1px 2px rgba(0, 0, 0, 0.3));\n",
              "      fill: #FFFFFF;\n",
              "    }\n",
              "  </style>\n",
              "\n",
              "      <script>\n",
              "        const buttonEl =\n",
              "          document.querySelector('#df-e4fa81d5-067c-408f-b610-38291bdf98f0 button.colab-df-convert');\n",
              "        buttonEl.style.display =\n",
              "          google.colab.kernel.accessAllowed ? 'block' : 'none';\n",
              "\n",
              "        async function convertToInteractive(key) {\n",
              "          const element = document.querySelector('#df-e4fa81d5-067c-408f-b610-38291bdf98f0');\n",
              "          const dataTable =\n",
              "            await google.colab.kernel.invokeFunction('convertToInteractive',\n",
              "                                                     [key], {});\n",
              "          if (!dataTable) return;\n",
              "\n",
              "          const docLinkHtml = 'Like what you see? Visit the ' +\n",
              "            '<a target=\"_blank\" href=https://colab.research.google.com/notebooks/data_table.ipynb>data table notebook</a>'\n",
              "            + ' to learn more about interactive tables.';\n",
              "          element.innerHTML = '';\n",
              "          dataTable['output_type'] = 'display_data';\n",
              "          await google.colab.output.renderOutput(dataTable, element);\n",
              "          const docLink = document.createElement('div');\n",
              "          docLink.innerHTML = docLinkHtml;\n",
              "          element.appendChild(docLink);\n",
              "        }\n",
              "      </script>\n",
              "    </div>\n",
              "  </div>\n",
              "  "
            ]
          },
          "metadata": {},
          "execution_count": 3
        }
      ]
    },
    {
      "cell_type": "code",
      "source": [
        "df = df.drop(['article_link'], axis=1)#Droping the article_link coloum \n",
        "df.head() "
      ],
      "metadata": {
        "colab": {
          "base_uri": "https://localhost:8080/",
          "height": 206
        },
        "id": "Z55RJX64ETae",
        "outputId": "bb7b00b8-6448-43e4-ec86-4f24c97559b9"
      },
      "execution_count": 4,
      "outputs": [
        {
          "output_type": "execute_result",
          "data": {
            "text/plain": [
              "                                            headline  is_sarcastic\n",
              "0  former versace store clerk sues over secret 'b...             0\n",
              "1  the 'roseanne' revival catches up to our thorn...             0\n",
              "2  mom starting to fear son's web series closest ...             1\n",
              "3  boehner just wants wife to listen, not come up...             1\n",
              "4  j.k. rowling wishes snape happy birthday in th...             0"
            ],
            "text/html": [
              "\n",
              "  <div id=\"df-4dec3ee9-71d7-40b6-9a6f-cdb71737b208\">\n",
              "    <div class=\"colab-df-container\">\n",
              "      <div>\n",
              "<style scoped>\n",
              "    .dataframe tbody tr th:only-of-type {\n",
              "        vertical-align: middle;\n",
              "    }\n",
              "\n",
              "    .dataframe tbody tr th {\n",
              "        vertical-align: top;\n",
              "    }\n",
              "\n",
              "    .dataframe thead th {\n",
              "        text-align: right;\n",
              "    }\n",
              "</style>\n",
              "<table border=\"1\" class=\"dataframe\">\n",
              "  <thead>\n",
              "    <tr style=\"text-align: right;\">\n",
              "      <th></th>\n",
              "      <th>headline</th>\n",
              "      <th>is_sarcastic</th>\n",
              "    </tr>\n",
              "  </thead>\n",
              "  <tbody>\n",
              "    <tr>\n",
              "      <th>0</th>\n",
              "      <td>former versace store clerk sues over secret 'b...</td>\n",
              "      <td>0</td>\n",
              "    </tr>\n",
              "    <tr>\n",
              "      <th>1</th>\n",
              "      <td>the 'roseanne' revival catches up to our thorn...</td>\n",
              "      <td>0</td>\n",
              "    </tr>\n",
              "    <tr>\n",
              "      <th>2</th>\n",
              "      <td>mom starting to fear son's web series closest ...</td>\n",
              "      <td>1</td>\n",
              "    </tr>\n",
              "    <tr>\n",
              "      <th>3</th>\n",
              "      <td>boehner just wants wife to listen, not come up...</td>\n",
              "      <td>1</td>\n",
              "    </tr>\n",
              "    <tr>\n",
              "      <th>4</th>\n",
              "      <td>j.k. rowling wishes snape happy birthday in th...</td>\n",
              "      <td>0</td>\n",
              "    </tr>\n",
              "  </tbody>\n",
              "</table>\n",
              "</div>\n",
              "      <button class=\"colab-df-convert\" onclick=\"convertToInteractive('df-4dec3ee9-71d7-40b6-9a6f-cdb71737b208')\"\n",
              "              title=\"Convert this dataframe to an interactive table.\"\n",
              "              style=\"display:none;\">\n",
              "        \n",
              "  <svg xmlns=\"http://www.w3.org/2000/svg\" height=\"24px\"viewBox=\"0 0 24 24\"\n",
              "       width=\"24px\">\n",
              "    <path d=\"M0 0h24v24H0V0z\" fill=\"none\"/>\n",
              "    <path d=\"M18.56 5.44l.94 2.06.94-2.06 2.06-.94-2.06-.94-.94-2.06-.94 2.06-2.06.94zm-11 1L8.5 8.5l.94-2.06 2.06-.94-2.06-.94L8.5 2.5l-.94 2.06-2.06.94zm10 10l.94 2.06.94-2.06 2.06-.94-2.06-.94-.94-2.06-.94 2.06-2.06.94z\"/><path d=\"M17.41 7.96l-1.37-1.37c-.4-.4-.92-.59-1.43-.59-.52 0-1.04.2-1.43.59L10.3 9.45l-7.72 7.72c-.78.78-.78 2.05 0 2.83L4 21.41c.39.39.9.59 1.41.59.51 0 1.02-.2 1.41-.59l7.78-7.78 2.81-2.81c.8-.78.8-2.07 0-2.86zM5.41 20L4 18.59l7.72-7.72 1.47 1.35L5.41 20z\"/>\n",
              "  </svg>\n",
              "      </button>\n",
              "      \n",
              "  <style>\n",
              "    .colab-df-container {\n",
              "      display:flex;\n",
              "      flex-wrap:wrap;\n",
              "      gap: 12px;\n",
              "    }\n",
              "\n",
              "    .colab-df-convert {\n",
              "      background-color: #E8F0FE;\n",
              "      border: none;\n",
              "      border-radius: 50%;\n",
              "      cursor: pointer;\n",
              "      display: none;\n",
              "      fill: #1967D2;\n",
              "      height: 32px;\n",
              "      padding: 0 0 0 0;\n",
              "      width: 32px;\n",
              "    }\n",
              "\n",
              "    .colab-df-convert:hover {\n",
              "      background-color: #E2EBFA;\n",
              "      box-shadow: 0px 1px 2px rgba(60, 64, 67, 0.3), 0px 1px 3px 1px rgba(60, 64, 67, 0.15);\n",
              "      fill: #174EA6;\n",
              "    }\n",
              "\n",
              "    [theme=dark] .colab-df-convert {\n",
              "      background-color: #3B4455;\n",
              "      fill: #D2E3FC;\n",
              "    }\n",
              "\n",
              "    [theme=dark] .colab-df-convert:hover {\n",
              "      background-color: #434B5C;\n",
              "      box-shadow: 0px 1px 3px 1px rgba(0, 0, 0, 0.15);\n",
              "      filter: drop-shadow(0px 1px 2px rgba(0, 0, 0, 0.3));\n",
              "      fill: #FFFFFF;\n",
              "    }\n",
              "  </style>\n",
              "\n",
              "      <script>\n",
              "        const buttonEl =\n",
              "          document.querySelector('#df-4dec3ee9-71d7-40b6-9a6f-cdb71737b208 button.colab-df-convert');\n",
              "        buttonEl.style.display =\n",
              "          google.colab.kernel.accessAllowed ? 'block' : 'none';\n",
              "\n",
              "        async function convertToInteractive(key) {\n",
              "          const element = document.querySelector('#df-4dec3ee9-71d7-40b6-9a6f-cdb71737b208');\n",
              "          const dataTable =\n",
              "            await google.colab.kernel.invokeFunction('convertToInteractive',\n",
              "                                                     [key], {});\n",
              "          if (!dataTable) return;\n",
              "\n",
              "          const docLinkHtml = 'Like what you see? Visit the ' +\n",
              "            '<a target=\"_blank\" href=https://colab.research.google.com/notebooks/data_table.ipynb>data table notebook</a>'\n",
              "            + ' to learn more about interactive tables.';\n",
              "          element.innerHTML = '';\n",
              "          dataTable['output_type'] = 'display_data';\n",
              "          await google.colab.output.renderOutput(dataTable, element);\n",
              "          const docLink = document.createElement('div');\n",
              "          docLink.innerHTML = docLinkHtml;\n",
              "          element.appendChild(docLink);\n",
              "        }\n",
              "      </script>\n",
              "    </div>\n",
              "  </div>\n",
              "  "
            ]
          },
          "metadata": {},
          "execution_count": 4
        }
      ]
    },
    {
      "cell_type": "code",
      "source": [
        "X = df['headline']"
      ],
      "metadata": {
        "id": "6jQNtRfXEVp9"
      },
      "execution_count": 5,
      "outputs": []
    },
    {
      "cell_type": "code",
      "source": [
        "X"
      ],
      "metadata": {
        "colab": {
          "base_uri": "https://localhost:8080/"
        },
        "id": "Nel-HKIfEh0f",
        "outputId": "a26c6653-cf78-4a2e-ab51-68353f17daa3"
      },
      "execution_count": 6,
      "outputs": [
        {
          "output_type": "execute_result",
          "data": {
            "text/plain": [
              "0        former versace store clerk sues over secret 'b...\n",
              "1        the 'roseanne' revival catches up to our thorn...\n",
              "2        mom starting to fear son's web series closest ...\n",
              "3        boehner just wants wife to listen, not come up...\n",
              "4        j.k. rowling wishes snape happy birthday in th...\n",
              "                               ...                        \n",
              "26704                 american politics in moral free-fall\n",
              "26705                              america's best 20 hikes\n",
              "26706                                reparations and obama\n",
              "26707    israeli ban targeting boycott supporters raise...\n",
              "26708                    gourmet gifts for the foodie 2014\n",
              "Name: headline, Length: 26709, dtype: object"
            ]
          },
          "metadata": {},
          "execution_count": 6
        }
      ]
    },
    {
      "cell_type": "code",
      "source": [
        "Y = df['is_sarcastic']"
      ],
      "metadata": {
        "id": "7VsxzRKgEjW-"
      },
      "execution_count": 7,
      "outputs": []
    },
    {
      "cell_type": "code",
      "source": [
        "Y"
      ],
      "metadata": {
        "colab": {
          "base_uri": "https://localhost:8080/"
        },
        "id": "BtveFya3Etgc",
        "outputId": "f1c36076-6ff2-4f66-d5a5-32f5b2452616"
      },
      "execution_count": 8,
      "outputs": [
        {
          "output_type": "execute_result",
          "data": {
            "text/plain": [
              "0        0\n",
              "1        0\n",
              "2        1\n",
              "3        1\n",
              "4        0\n",
              "        ..\n",
              "26704    0\n",
              "26705    0\n",
              "26706    0\n",
              "26707    0\n",
              "26708    0\n",
              "Name: is_sarcastic, Length: 26709, dtype: int64"
            ]
          },
          "metadata": {},
          "execution_count": 8
        }
      ]
    },
    {
      "cell_type": "code",
      "source": [
        "import tensorflow  as tf\n",
        "from tensorflow.keras.layers.experimental.preprocessing import TextVectorization  "
      ],
      "metadata": {
        "id": "cebHlFuRE3Ms"
      },
      "execution_count": 9,
      "outputs": []
    },
    {
      "cell_type": "code",
      "source": [
        "# Setup text vectorization with custom variables\n",
        "max_vocab_length = 10000 # max number of words to have in our vocabulary\n",
        "max_length = 10 # max length our sequences will be (e.g. how many words from a Tweet does our model see?)\n",
        "\n",
        "text_vectorizer = TextVectorization(max_tokens=max_vocab_length,\n",
        "                                    output_mode=\"int\",\n",
        "                                    output_sequence_length=max_length)"
      ],
      "metadata": {
        "id": "eMrl1-rJEuoz"
      },
      "execution_count": 10,
      "outputs": []
    },
    {
      "cell_type": "code",
      "source": [
        "text_vectorizer.adapt(X)\n"
      ],
      "metadata": {
        "id": "FkRtMOcSE0R2"
      },
      "execution_count": 11,
      "outputs": []
    },
    {
      "cell_type": "code",
      "source": [
        "tf.random.set_seed(42)\n",
        "from tensorflow.keras import layers\n",
        "\n",
        "embedding = layers.Embedding(input_dim=max_vocab_length, # set input shape\n",
        "                             output_dim=128, # set size of embedding vector\n",
        "                             embeddings_initializer=\"uniform\", # default, intialize randomly\n",
        "                             input_length=max_length, # how long is each input\n",
        "                             name=\"embedding_1\") \n",
        "\n",
        "embedding"
      ],
      "metadata": {
        "colab": {
          "base_uri": "https://localhost:8080/"
        },
        "id": "2SzGB3wHF0x-",
        "outputId": "cc640de9-01b7-4220-bad7-da9b2a4e0f8e"
      },
      "execution_count": 12,
      "outputs": [
        {
          "output_type": "execute_result",
          "data": {
            "text/plain": [
              "<keras.layers.embeddings.Embedding at 0x7f21c05af990>"
            ]
          },
          "metadata": {},
          "execution_count": 12
        }
      ]
    },
    {
      "cell_type": "markdown",
      "source": [
        "#"
      ],
      "metadata": {
        "id": "j-sNT-O-iBg_"
      }
    },
    {
      "cell_type": "code",
      "source": [
        "#functional Aip \n",
        "#model creation\n",
        "tf.random.set_seed(42)\n",
        "from tensorflow.keras import layers\n",
        "Inputs =  layers.Input(shape=(1,),dtype='string')\n",
        "x = text_vectorizer(Inputs)\n",
        "x = embedding(x)\n",
        "x = layers.GlobalAveragePooling1D()(x)\n",
        "x = layers.Dense(3,activation='relu')(x)\n",
        "#x = layers.Dropout(0.2)(x)\n",
        "outputs = layers.Dense(1,activation='sigmoid')(x)\n",
        "Dense_model = tf.keras.Model(Inputs,outputs,name='Dens_model')"
      ],
      "metadata": {
        "id": "XrS1YBJuF6Tz"
      },
      "execution_count": 26,
      "outputs": []
    },
    {
      "cell_type": "code",
      "source": [
        "#model compile \n",
        "Dense_model.compile(loss=\"binary_crossentropy\",\n",
        "                    optimizer =tf.keras.optimizers.Adam(),\n",
        "                    metrics=['accuracy'])"
      ],
      "metadata": {
        "id": "QYz8_0EqGBBa"
      },
      "execution_count": 27,
      "outputs": []
    },
    {
      "cell_type": "code",
      "source": [
        "from sklearn.model_selection import KFold\n",
        "\n",
        "n_split=3\n",
        "\n",
        "for train_index,test_index in KFold(n_split).split(X):\n",
        "  x_train,x_test=X[train_index],X[test_index]\n",
        "  y_train,y_test=Y[train_index],Y[test_index]\n",
        "\n",
        "  Dense_model.fit(x_train, y_train,epochs=30)"
      ],
      "metadata": {
        "colab": {
          "base_uri": "https://localhost:8080/"
        },
        "id": "oOpdkaj2GYre",
        "outputId": "b776e920-d587-48b2-feb1-4e4a86c057b9"
      },
      "execution_count": 28,
      "outputs": [
        {
          "output_type": "stream",
          "name": "stdout",
          "text": [
            "Epoch 1/30\n",
            "557/557 [==============================] - 3s 4ms/step - loss: 0.1894 - accuracy: 0.9648\n",
            "Epoch 2/30\n",
            "557/557 [==============================] - 2s 4ms/step - loss: 0.0568 - accuracy: 0.9737\n",
            "Epoch 3/30\n",
            "557/557 [==============================] - 2s 4ms/step - loss: 0.0376 - accuracy: 0.9757\n",
            "Epoch 4/30\n",
            "557/557 [==============================] - 2s 4ms/step - loss: 0.0285 - accuracy: 0.9800\n",
            "Epoch 5/30\n",
            "557/557 [==============================] - 2s 4ms/step - loss: 0.0235 - accuracy: 0.9922\n",
            "Epoch 6/30\n",
            "557/557 [==============================] - 2s 4ms/step - loss: 0.0203 - accuracy: 0.9943\n",
            "Epoch 7/30\n",
            "557/557 [==============================] - 2s 4ms/step - loss: 0.0177 - accuracy: 0.9954\n",
            "Epoch 8/30\n",
            "557/557 [==============================] - 2s 4ms/step - loss: 0.0159 - accuracy: 0.9960\n",
            "Epoch 9/30\n",
            "557/557 [==============================] - 2s 4ms/step - loss: 0.0143 - accuracy: 0.9964\n",
            "Epoch 10/30\n",
            "557/557 [==============================] - 2s 4ms/step - loss: 0.0132 - accuracy: 0.9963\n",
            "Epoch 11/30\n",
            "557/557 [==============================] - 2s 4ms/step - loss: 0.0125 - accuracy: 0.9962\n",
            "Epoch 12/30\n",
            "557/557 [==============================] - 2s 4ms/step - loss: 0.0116 - accuracy: 0.9965\n",
            "Epoch 13/30\n",
            "557/557 [==============================] - 2s 4ms/step - loss: 0.0111 - accuracy: 0.9966\n",
            "Epoch 14/30\n",
            "557/557 [==============================] - 2s 4ms/step - loss: 0.0108 - accuracy: 0.9967\n",
            "Epoch 15/30\n",
            "557/557 [==============================] - 2s 4ms/step - loss: 0.0107 - accuracy: 0.9967\n",
            "Epoch 16/30\n",
            "557/557 [==============================] - 2s 4ms/step - loss: 0.0105 - accuracy: 0.9967\n",
            "Epoch 17/30\n",
            "557/557 [==============================] - 2s 4ms/step - loss: 0.0101 - accuracy: 0.9967\n",
            "Epoch 18/30\n",
            "557/557 [==============================] - 2s 4ms/step - loss: 0.0097 - accuracy: 0.9970\n",
            "Epoch 19/30\n",
            "557/557 [==============================] - 2s 4ms/step - loss: 0.0093 - accuracy: 0.9971\n",
            "Epoch 20/30\n",
            "557/557 [==============================] - 2s 4ms/step - loss: 0.0092 - accuracy: 0.9971\n",
            "Epoch 21/30\n",
            "557/557 [==============================] - 2s 4ms/step - loss: 0.0089 - accuracy: 0.9973\n",
            "Epoch 22/30\n",
            "557/557 [==============================] - 2s 4ms/step - loss: 0.0088 - accuracy: 0.9973\n",
            "Epoch 23/30\n",
            "557/557 [==============================] - 2s 4ms/step - loss: 0.0083 - accuracy: 0.9975\n",
            "Epoch 24/30\n",
            "557/557 [==============================] - 2s 4ms/step - loss: 0.0082 - accuracy: 0.9976\n",
            "Epoch 25/30\n",
            "557/557 [==============================] - 2s 4ms/step - loss: 0.0083 - accuracy: 0.9974\n",
            "Epoch 26/30\n",
            "557/557 [==============================] - 2s 4ms/step - loss: 0.0083 - accuracy: 0.9975\n",
            "Epoch 27/30\n",
            "557/557 [==============================] - 2s 4ms/step - loss: 0.0082 - accuracy: 0.9975\n",
            "Epoch 28/30\n",
            "557/557 [==============================] - 2s 4ms/step - loss: 0.0081 - accuracy: 0.9976\n",
            "Epoch 29/30\n",
            "557/557 [==============================] - 2s 4ms/step - loss: 0.0083 - accuracy: 0.9974\n",
            "Epoch 30/30\n",
            "557/557 [==============================] - 2s 4ms/step - loss: 0.0081 - accuracy: 0.9975\n",
            "Epoch 1/30\n",
            "557/557 [==============================] - 2s 4ms/step - loss: 0.2078 - accuracy: 0.9489\n",
            "Epoch 2/30\n",
            "557/557 [==============================] - 2s 4ms/step - loss: 0.0820 - accuracy: 0.9746\n",
            "Epoch 3/30\n",
            "557/557 [==============================] - 2s 4ms/step - loss: 0.0546 - accuracy: 0.9829\n",
            "Epoch 4/30\n",
            "557/557 [==============================] - 2s 4ms/step - loss: 0.0401 - accuracy: 0.9865\n",
            "Epoch 5/30\n",
            "557/557 [==============================] - 2s 4ms/step - loss: 0.0304 - accuracy: 0.9904\n",
            "Epoch 6/30\n",
            "557/557 [==============================] - 2s 4ms/step - loss: 0.0242 - accuracy: 0.9929\n",
            "Epoch 7/30\n",
            "557/557 [==============================] - 2s 4ms/step - loss: 0.0200 - accuracy: 0.9943\n",
            "Epoch 8/30\n",
            "557/557 [==============================] - 2s 4ms/step - loss: 0.0171 - accuracy: 0.9953\n",
            "Epoch 9/30\n",
            "557/557 [==============================] - 2s 4ms/step - loss: 0.0150 - accuracy: 0.9960\n",
            "Epoch 10/30\n",
            "557/557 [==============================] - 2s 4ms/step - loss: 0.0133 - accuracy: 0.9965\n",
            "Epoch 11/30\n",
            "557/557 [==============================] - 2s 4ms/step - loss: 0.0124 - accuracy: 0.9967\n",
            "Epoch 12/30\n",
            "557/557 [==============================] - 2s 4ms/step - loss: 0.0116 - accuracy: 0.9970\n",
            "Epoch 13/30\n",
            "557/557 [==============================] - 2s 4ms/step - loss: 0.0110 - accuracy: 0.9971\n",
            "Epoch 14/30\n",
            "557/557 [==============================] - 2s 4ms/step - loss: 0.0105 - accuracy: 0.9971\n",
            "Epoch 15/30\n",
            "557/557 [==============================] - 2s 4ms/step - loss: 0.0104 - accuracy: 0.9971\n",
            "Epoch 16/30\n",
            "557/557 [==============================] - 2s 4ms/step - loss: 0.0101 - accuracy: 0.9972\n",
            "Epoch 17/30\n",
            "557/557 [==============================] - 2s 4ms/step - loss: 0.0099 - accuracy: 0.9972\n",
            "Epoch 18/30\n",
            "557/557 [==============================] - 2s 4ms/step - loss: 0.0096 - accuracy: 0.9974\n",
            "Epoch 19/30\n",
            "557/557 [==============================] - 2s 4ms/step - loss: 0.0097 - accuracy: 0.9973\n",
            "Epoch 20/30\n",
            "557/557 [==============================] - 2s 4ms/step - loss: 0.0096 - accuracy: 0.9973\n",
            "Epoch 21/30\n",
            "557/557 [==============================] - 2s 4ms/step - loss: 0.0094 - accuracy: 0.9974\n",
            "Epoch 22/30\n",
            "557/557 [==============================] - 2s 4ms/step - loss: 0.0096 - accuracy: 0.9972\n",
            "Epoch 23/30\n",
            "557/557 [==============================] - 2s 4ms/step - loss: 0.0095 - accuracy: 0.9972\n",
            "Epoch 24/30\n",
            "557/557 [==============================] - 2s 4ms/step - loss: 0.0093 - accuracy: 0.9974\n",
            "Epoch 25/30\n",
            "557/557 [==============================] - 2s 4ms/step - loss: 0.0094 - accuracy: 0.9973\n",
            "Epoch 26/30\n",
            "557/557 [==============================] - 2s 4ms/step - loss: 0.0091 - accuracy: 0.9974\n",
            "Epoch 27/30\n",
            "557/557 [==============================] - 2s 4ms/step - loss: 0.0095 - accuracy: 0.9973\n",
            "Epoch 28/30\n",
            "557/557 [==============================] - 2s 4ms/step - loss: 0.0091 - accuracy: 0.9974\n",
            "Epoch 29/30\n",
            "557/557 [==============================] - 2s 4ms/step - loss: 0.0095 - accuracy: 0.9974\n",
            "Epoch 30/30\n",
            "557/557 [==============================] - 2s 4ms/step - loss: 0.0093 - accuracy: 0.9974\n",
            "Epoch 1/30\n",
            "557/557 [==============================] - 2s 4ms/step - loss: 0.0957 - accuracy: 0.9749\n",
            "Epoch 2/30\n",
            "557/557 [==============================] - 2s 4ms/step - loss: 0.0321 - accuracy: 0.9890\n",
            "Epoch 3/30\n",
            "557/557 [==============================] - 2s 4ms/step - loss: 0.0221 - accuracy: 0.9925\n",
            "Epoch 4/30\n",
            "557/557 [==============================] - 2s 4ms/step - loss: 0.0189 - accuracy: 0.9937\n",
            "Epoch 5/30\n",
            "557/557 [==============================] - 2s 4ms/step - loss: 0.0176 - accuracy: 0.9943\n",
            "Epoch 6/30\n",
            "557/557 [==============================] - 2s 4ms/step - loss: 0.0167 - accuracy: 0.9946\n",
            "Epoch 7/30\n",
            "557/557 [==============================] - 2s 4ms/step - loss: 0.0164 - accuracy: 0.9946\n",
            "Epoch 8/30\n",
            "557/557 [==============================] - 2s 4ms/step - loss: 0.0158 - accuracy: 0.9947\n",
            "Epoch 9/30\n",
            "557/557 [==============================] - 2s 4ms/step - loss: 0.0156 - accuracy: 0.9949\n",
            "Epoch 10/30\n",
            "557/557 [==============================] - 2s 4ms/step - loss: 0.0151 - accuracy: 0.9950\n",
            "Epoch 11/30\n",
            "557/557 [==============================] - 2s 4ms/step - loss: 0.0152 - accuracy: 0.9950\n",
            "Epoch 12/30\n",
            "557/557 [==============================] - 2s 4ms/step - loss: 0.0149 - accuracy: 0.9950\n",
            "Epoch 13/30\n",
            "557/557 [==============================] - 2s 4ms/step - loss: 0.0148 - accuracy: 0.9951\n",
            "Epoch 14/30\n",
            "557/557 [==============================] - 2s 4ms/step - loss: 0.0148 - accuracy: 0.9951\n",
            "Epoch 15/30\n",
            "557/557 [==============================] - 2s 4ms/step - loss: 0.0150 - accuracy: 0.9949\n",
            "Epoch 16/30\n",
            "557/557 [==============================] - 2s 4ms/step - loss: 0.0149 - accuracy: 0.9950\n",
            "Epoch 17/30\n",
            "557/557 [==============================] - 2s 4ms/step - loss: 0.0149 - accuracy: 0.9951\n",
            "Epoch 18/30\n",
            "557/557 [==============================] - 2s 4ms/step - loss: 0.0147 - accuracy: 0.9951\n",
            "Epoch 19/30\n",
            "557/557 [==============================] - 2s 4ms/step - loss: 0.0145 - accuracy: 0.9951\n",
            "Epoch 20/30\n",
            "557/557 [==============================] - 2s 4ms/step - loss: 0.0148 - accuracy: 0.9951\n",
            "Epoch 21/30\n",
            "557/557 [==============================] - 2s 4ms/step - loss: 0.0148 - accuracy: 0.9950\n",
            "Epoch 22/30\n",
            "557/557 [==============================] - 2s 4ms/step - loss: 0.0147 - accuracy: 0.9952\n",
            "Epoch 23/30\n",
            "557/557 [==============================] - 2s 4ms/step - loss: 0.0147 - accuracy: 0.9949\n",
            "Epoch 24/30\n",
            "557/557 [==============================] - 2s 4ms/step - loss: 0.0146 - accuracy: 0.9952\n",
            "Epoch 25/30\n",
            "557/557 [==============================] - 2s 4ms/step - loss: 0.0148 - accuracy: 0.9951\n",
            "Epoch 26/30\n",
            "557/557 [==============================] - 2s 4ms/step - loss: 0.0147 - accuracy: 0.9951\n",
            "Epoch 27/30\n",
            "557/557 [==============================] - 2s 4ms/step - loss: 0.0145 - accuracy: 0.9951\n",
            "Epoch 28/30\n",
            "557/557 [==============================] - 2s 4ms/step - loss: 0.0147 - accuracy: 0.9951\n",
            "Epoch 29/30\n",
            "557/557 [==============================] - 2s 4ms/step - loss: 0.0145 - accuracy: 0.9951\n",
            "Epoch 30/30\n",
            "557/557 [==============================] - 2s 4ms/step - loss: 0.0145 - accuracy: 0.9952\n"
          ]
        }
      ]
    },
    {
      "cell_type": "code",
      "source": [
        "print('Model evaluation ',Dense_model.evaluate(x_test,y_test))"
      ],
      "metadata": {
        "colab": {
          "base_uri": "https://localhost:8080/"
        },
        "id": "KGJuwNkYG5Dh",
        "outputId": "761e36ad-8be6-40d4-f910-6a689e8439e6"
      },
      "execution_count": 29,
      "outputs": [
        {
          "output_type": "stream",
          "name": "stdout",
          "text": [
            "279/279 [==============================] - 1s 3ms/step - loss: 0.1234 - accuracy: 0.9708\n",
            "Model evaluation  [0.1233641505241394, 0.9707963466644287]\n"
          ]
        }
      ]
    },
    {
      "cell_type": "code",
      "source": [
        "print('Model evaluation ',Dense_model.evaluate(x_train,y_train))"
      ],
      "metadata": {
        "colab": {
          "base_uri": "https://localhost:8080/"
        },
        "id": "G8S0RajcJcV7",
        "outputId": "0419eb66-8d0c-4f33-9ffb-e5e062b301ad"
      },
      "execution_count": 30,
      "outputs": [
        {
          "output_type": "stream",
          "name": "stdout",
          "text": [
            "557/557 [==============================] - 1s 3ms/step - loss: 0.0145 - accuracy: 0.9952\n",
            "Model evaluation  [0.01447790302336216, 0.9951701760292053]\n"
          ]
        }
      ]
    },
    {
      "cell_type": "code",
      "source": [],
      "metadata": {
        "id": "8jE_Wp5QJlwp"
      },
      "execution_count": 30,
      "outputs": []
    }
  ]
}